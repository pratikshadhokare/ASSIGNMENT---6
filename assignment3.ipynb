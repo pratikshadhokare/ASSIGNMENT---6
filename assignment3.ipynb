{
  "nbformat": 4,
  "nbformat_minor": 0,
  "metadata": {
    "colab": {
      "provenance": []
    },
    "kernelspec": {
      "name": "python3",
      "display_name": "Python 3"
    },
    "language_info": {
      "name": "python"
    }
  },
  "cells": [
    {
      "cell_type": "markdown",
      "source": [
        "ASSIGNMENT 3 (Theory Questions)"
      ],
      "metadata": {
        "id": "dm1U6Daaf7G4"
      }
    },
    {
      "cell_type": "markdown",
      "source": [
        "1. What is the difference between a function and a method in Python?\n",
        "\n",
        "A **function** is a standalone block of reusable code defined using def or lambda, which performs a specific task and is not inherently associated with any object or class instance.A function is independent.\n",
        "eg-def add(a, b): return a + b result = add(3, 4)  # Output: 7\n",
        "\n",
        "A **method** is a function that is defined within a class and is associated with an object; it operates on the data (attributes) of that object, typically using self as its first parameter.A method is tied to an object (or class).\n",
        "eg-class Calculator:def add(self, a, b):return a + b calc = Calculator()\n",
        "result = calc.add(3, 4)  # Output: 7\n",
        "\n"
      ],
      "metadata": {
        "id": "N2nA_Vk0f7gJ"
      }
    },
    {
      "cell_type": "markdown",
      "source": [
        "2. 2. Explain the concept of function arguments and parameters in Python?\n",
        "\n",
        "**Parameters** are the variables listed in the function definition.\n",
        "They act as placeholders for the values the function will receive.\n",
        "eg-def greet(name):  # 'name' is a parameter print(\"Hello\", name)\n",
        "\n",
        "**Arguments** are the actual values passed to the function when it is called.\n",
        "eg-greet(\"candace\")  # \"candance\" is an argument.\n"
      ],
      "metadata": {
        "id": "IWU1es4o_nmf"
      }
    },
    {
      "cell_type": "markdown",
      "source": [
        "3. What are the different ways to define and call a function in Python?\n",
        "\n",
        "✅ **Ways to define a Function**\n",
        "\n",
        "Using def (Standard)\n",
        "def greet(name):return f\"Hello, {name}!\"\n",
        "\n",
        "With Default Parameters\n",
        "def greet(name=\"Guest\"):return f\"Hello, {name}!\"\n",
        "\n",
        "With Variable-length Arguments\n",
        "*args for multiple positional arguments\n",
        "**kwargs for multiple keyword arguments\n",
        "def show(*args, **kwargs):print(args, kwargs)\n",
        "\n",
        "Lambda Function (Anonymous)\n",
        "square = lambda x: x ** 2\n",
        "Inside a Class (Method)\n",
        "class Person:def greet(self, name):return f\"Hi {name}\"\n",
        "\n",
        "✅**Ways to Call a Function**\n",
        "\n",
        "a)Positional Arguments\n",
        "greet(\"Alice\")\n",
        "\n",
        "b)Keyword Arguments\n",
        "greet(name=\"Alice\")\n",
        "\n",
        "c)With Default Value\n",
        "greet()  # Uses default \"Guest\"\n",
        "\n",
        "d)Using *args and **kwargs\n",
        "args = (\"Alice\",)kwargs = {\"name\": \"Alice\"} greet(*args) greet(**kwargs)\n",
        "\n",
        "e)Calling Lambda Function\n",
        "square(5)\n",
        "\n"
      ],
      "metadata": {
        "id": "vFn01qm_AHrv"
      }
    },
    {
      "cell_type": "markdown",
      "source": [
        "4. What is the purpose of the `return` statement in a Python function?\n",
        "\n",
        "The return statement is used to send a value back to the caller from a function.\n",
        "\n",
        "🔹 Main Purposes:\n",
        "\n",
        "a)Return Output from a Function\n",
        "It gives back the result of a calculation or operation.\n",
        "def add(a, b): return a + b result = add(3, 5)  # result = 8\n",
        "\n",
        "b)End Function Execution\n",
        "return immediately ends the function when it's executed.\n",
        "def check_number(x): if x > 0: return \"Positive\"return \"Non-positive\"\n",
        "\n",
        "c)Return Multiple Values (as a tuple)\n",
        "def stats(x, y):return x + y, x * y s, p = stats(2, 3)  # s = 5, p = 6\n"
      ],
      "metadata": {
        "id": "h00apywqzE_p"
      }
    },
    {
      "cell_type": "markdown",
      "source": [
        "5. What are iterators in Python and how do they differ from iterables?\n",
        "Both iterators and iterables are core to Python's ability to handle loops and sequences, but they are not the same.\n",
        "\n",
        "🔹 Iterable\n",
        "An iterable is any Python object capable of returning its elements one at a time using a loop (like for).\n",
        "\n",
        " Examples: lists, tuples, strings, sets, dictionaries.Has: __iter__() method, which returns an iterator.\n",
        "\n",
        " eg-\n",
        " nums = [1, 2, 3]  # This is an iterable; for n in nums: print(n)\n",
        "\n",
        "🔹 Iterator\n",
        "An iterator is an object that represents a stream of data; it remembers its state as it is iterated.\n",
        "\n",
        "Has:\n",
        "\n",
        "__iter__() → returns itself\n",
        "\n",
        "__next__() → returns next item or raises StopIteration\n",
        "\n",
        "eg-\n",
        "nums = [1, 2, 3]it = iter(nums)  # Create an iterator print(next(it))  # 1\n",
        "print(next(it))  # 2"
      ],
      "metadata": {
        "id": "YoHTlBV8zEwF"
      }
    },
    {
      "cell_type": "markdown",
      "source": [
        "6. Explain the concept of generators in Python and how they are defined?\n",
        "\n",
        "A generator is a special type of function that allows you to generate a sequence of values one at a time — on the fly — instead of storing them all in memory.\n",
        "A generator is defined like a normal function, but uses the yield keyword instead of return.\n",
        "\n",
        "🔹 **Calling a Generator**\n",
        "gen = count_up_to(3)  # creates a generator object\n",
        "print(next(gen))  # 1\n",
        "print(next(gen))  # 2\n",
        "print(next(gen))  # 3\n",
        "\n",
        "next(gen) → raises StopIteration"
      ],
      "metadata": {
        "id": "K642nN21zEgi"
      }
    },
    {
      "cell_type": "markdown",
      "source": [
        "7. What are the advantages of using generators over regular functions?\n",
        "\n",
        "a) **Memory Efficiency**\n",
        "Generators produce values one at a time instead of generating and storing the entire result at once. This means they consume much less memory, especially when working with large datasets or long sequences.\n",
        "\n",
        "b)**Lazy Evaluation**\n",
        "Generators use lazy evaluation, meaning they only compute a value when it is needed. This avoids unnecessary calculations and improves performance when not all values are required immediately.\n",
        "\n",
        "c)**Faster Start Time**\n",
        "Since generators don’t prepare the whole result in advance, they can start providing output right away. This is useful for processing data streams or large files where waiting for full processing is inefficient.\n",
        "\n",
        "d)**Clean and Maintainable Code**\n",
        "Generators allow for simpler and cleaner code when writing iterators. You don’t need to manage state manually, which makes the code easier to understand and maintain.\n",
        "\n",
        "e)**Support for Infinite Sequences**\n",
        "Unlike regular functions, generators can represent infinite series. This is helpful in scenarios like real-time data streams or continuous sensor readings, where the data never ends.\n",
        "\n",
        "f)**Reduced Resource Consumption**\n",
        "Because generators yield one value at a time and maintain only the current state, they are less demanding on CPU and memory, making them more suitable for performance-critical applications."
      ],
      "metadata": {
        "id": "6zN1dlI-1phb"
      }
    },
    {
      "cell_type": "markdown",
      "source": [
        "8. What is a lambda function in Python and when is it typically used?\n",
        "\n",
        "A lambda function in Python is a small, anonymous function defined using the lambda keyword instead of def.\n",
        "\n",
        "Lambda functions are best used for short, throwaway functions, especially when you:\n",
        "1.   Don’t want to define a full function with def\n",
        "2.   Need a function as an argument to other functions (e.g., map, filter, sorted)\n",
        "3. Want quick, one-line functionality\n"
      ],
      "metadata": {
        "id": "Mm2nkr712xKb"
      }
    },
    {
      "cell_type": "markdown",
      "source": [
        "9. Explain the purpose and usage of the `map()` function in Python?\n",
        "\n",
        "🔹 Purpose:\n",
        "The map() function is used to apply a function to each item in an iterable (like a list, tuple, etc.) and return a new iterable (a map object) with the results.\n",
        "\n",
        "🔹 Why Use map()?\n",
        "*   To avoid writing explicit loops\n",
        "*   Makes code more concise and functional\n",
        "*   Works well with lambda functions for quick operations\n",
        "\n",
        "\n"
      ],
      "metadata": {
        "id": "LhuMw-jQ4jDE"
      }
    },
    {
      "cell_type": "markdown",
      "source": [
        "10. What is the difference between `map()`, `reduce()`, and `filter()` functions in Python?\n",
        "\n",
        "🔹 1. map() – Transformation\n",
        "Purpose: Applies a function to each item in an iterable and returns a new iterable with the transformed results.\n",
        "\n",
        "* Use Case: When you want to change or compute something for every item.\n",
        "* Example Use: Convert all temperatures from Celsius to Fahrenheit.\n",
        "\n",
        "🔹 2. filter() – Selection\n",
        "Purpose: Applies a function that returns True or False to each item and keeps only the items that return True.\n",
        "\n",
        "* Use Case: When you want to filter out unwanted data.\n",
        "* Example Use: Keep only even numbers from a list.\n",
        "\n",
        "🔹 3. reduce() – Aggregation\n",
        "Purpose: Applies a function to combine all items in an iterable into a single result (e.g., sum, product).\n",
        "\n",
        "* Use Case: When you want to collapse a list into a single value.\n",
        "* Example Use: Find the product of all numbers in a list.\n"
      ],
      "metadata": {
        "id": "tb9Rh0MO5AYP"
      }
    },
    {
      "cell_type": "markdown",
      "source": [
        "PRACTICAL QUESTIONS"
      ],
      "metadata": {
        "id": "pTc2_f3k7eCk"
      }
    },
    {
      "cell_type": "code",
      "source": [
        "#1. Write a Python function that takes a list of numbers as input and returns the sum of all even numbers in the list.\n",
        "def sum_even_numbers(numbers):\n",
        "    sum_even = 0\n",
        "    for num in numbers:\n",
        "        if num % 2 == 0:\n",
        "            sum_even += num\n",
        "    return sum_even\n"
      ],
      "metadata": {
        "id": "m6q6iCyq7gu6"
      },
      "execution_count": 4,
      "outputs": []
    },
    {
      "cell_type": "code",
      "source": [
        "#2.Create a Python function that accepts a string and returns the reverse of that string.\n",
        "def reverse_string(input_string):\n",
        "    return input_string[::-1]"
      ],
      "metadata": {
        "id": "KGOie6CV8Ufm"
      },
      "execution_count": 5,
      "outputs": []
    },
    {
      "cell_type": "code",
      "source": [
        "#3.Implement a Python function that takes a list of integers and returns a new list containing the squares of each number.\n",
        "def square_numbers(numbers):\n",
        "    squared_numbers = [num ** 2 for num in numbers]\n",
        "    return squared_numbers"
      ],
      "metadata": {
        "id": "q3YywfsF9KzA"
      },
      "execution_count": 6,
      "outputs": []
    },
    {
      "cell_type": "code",
      "source": [
        "#4.Write a Python function that checks if a given number is prime or not from 1 to 200.\n",
        "def is_prime(n):\n",
        "    if n <= 1:\n",
        "        return False  # 0 and 1 are not prime\n",
        "    for i in range(2, int(n**0.5) + 1):  # check up to √n\n",
        "        if n % i == 0:\n",
        "            return False\n",
        "    return True"
      ],
      "metadata": {
        "id": "Dh164SCx9WKV"
      },
      "execution_count": 7,
      "outputs": []
    },
    {
      "cell_type": "code",
      "source": [
        "#Create an iterator class in Python that generates the Fibonacci sequence up to a specified number of terms.\n",
        "\n",
        "class FibonacciIterator:\n",
        "    def __init__(self, n):\n",
        "        self.n = n\n",
        "        self.a, self.b = 0, 1\n",
        "        self.count = 0\n",
        "\n",
        "    def __iter__(self):\n",
        "        return self\n",
        "\n",
        "    def __next__(self):\n",
        "        if self.count < self.n:\n",
        "            result = self.a\n",
        "            self.a, self.b = self.b, self.a + self.b\n",
        "            self.count += 1\n",
        "            return result\n",
        "        else:\n",
        "            raise StopIteration"
      ],
      "metadata": {
        "id": "GQrV3Y4l9qI-"
      },
      "execution_count": null,
      "outputs": []
    },
    {
      "cell_type": "code",
      "source": [
        "#6.Write a generator function in Python that yields the powers of 2 up to a given exponent.\n",
        "def power_of_two(n):\n",
        "    power = 1\n",
        "    for _ in range(n):\n",
        "        yield power\n",
        "        power *= 2"
      ],
      "metadata": {
        "id": "HtR5wTo7-PR5"
      },
      "execution_count": 11,
      "outputs": []
    },
    {
      "cell_type": "code",
      "source": [
        "#7.mplement a generator function that reads a file line by line and yields each line as a string.\n",
        "def read_lines(filename):\n",
        "    with open(filename, 'r') as file:\n",
        "        for line in file:\n",
        "            yield line.strip()\n"
      ],
      "metadata": {
        "id": "OvZT_1XN-mrr"
      },
      "execution_count": 10,
      "outputs": []
    },
    {
      "cell_type": "code",
      "source": [
        "#8.Use a lambda function in Python to sort a list of tuples based on the second element of each tuple.\n",
        "data = [(1, 5), (3, 2), (2, 8), (4, 1)]\n",
        "sorted_data = sorted(data, key=lambda x: x[1])"
      ],
      "metadata": {
        "id": "xTiR8z4Z-yLr"
      },
      "execution_count": 9,
      "outputs": []
    },
    {
      "cell_type": "code",
      "source": [
        "#9.Write a Python program that uses `map()` to convert a list of temperatures from Celsius to Fahrenheit.\n",
        "celsius_temperatures = [0, 10, 20, 30, 40]\n",
        "fahrenheit_temperatures = list(map(lambda c: (c * 9/5) + 32, celsius_temperatures))"
      ],
      "metadata": {
        "id": "3JrDWPny-7-W"
      },
      "execution_count": 8,
      "outputs": []
    },
    {
      "cell_type": "code",
      "source": [
        "#10.. Create a Python program that uses `filter()` to remove all the vowels from a given string.\n",
        "def remove_vowels(input_string):\n",
        "    vowels = 'aeiouAEIOU'\n",
        "    return ''.join(filter(lambda char: char not in vowels, input_string))\n"
      ],
      "metadata": {
        "id": "u59c1cH0_HaZ"
      },
      "execution_count": null,
      "outputs": []
    },
    {
      "cell_type": "code",
      "source": [
        "#11.\n",
        "orders = [\n",
        "    [34587, \"Learning Python, Mark Lutz\", 4, 40.95],\n",
        "    [98762, \"Programming Python, Mark Lutz\", 5, 56.80],\n",
        "    [77226, \"Head First Python, Paul Barry\", 3, 32.95],\n",
        "    [88112, \"Einführung in Python3, Bernd Klein\", 3, 24.99]\n",
        "]\n",
        "\n",
        "result = list(map(\n",
        "    lambda order: (\n",
        "        order[0],\n",
        "        round(order[2] * order[3] + (10 if order[2] * order[3] < 100 else 0), 2)\n",
        "    ),\n",
        "    orders\n",
        "))\n",
        "\n",
        "print(result)\n"
      ],
      "metadata": {
        "colab": {
          "base_uri": "https://localhost:8080/"
        },
        "id": "x0zau3NR_TK7",
        "outputId": "f845568c-23e7-4e7a-b558-88311bac0e0e"
      },
      "execution_count": 12,
      "outputs": [
        {
          "output_type": "stream",
          "name": "stdout",
          "text": [
            "[(34587, 163.8), (98762, 284.0), (77226, 108.85), (88112, 84.97)]\n"
          ]
        }
      ]
    }
  ]
}