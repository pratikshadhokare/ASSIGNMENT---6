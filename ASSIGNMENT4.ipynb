{
  "nbformat": 4,
  "nbformat_minor": 0,
  "metadata": {
    "colab": {
      "provenance": []
    },
    "kernelspec": {
      "name": "python3",
      "display_name": "Python 3"
    },
    "language_info": {
      "name": "python"
    }
  },
  "cells": [
    {
      "cell_type": "markdown",
      "source": [
        "                                                          ASSIGNMENT-4 THEORY QUESTIONS"
      ],
      "metadata": {
        "id": "m_2jGfDWNlS7"
      }
    },
    {
      "cell_type": "markdown",
      "source": [
        "1. What is Object-Oriented Programming (OOP)?\n",
        "\n",
        "OOP is a programming paradigm based on the concept of objects, which bundle data (attributes) and behaviors (methods). It promotes code reusability, modularity, and organization.\n",
        "\n"
      ],
      "metadata": {
        "id": "wu2USoIyNlVa"
      }
    },
    {
      "cell_type": "markdown",
      "source": [
        "2. What is a class in OOP?\n",
        "\n",
        "A class is a blueprint for creating objects. It defines attributes and methods that the objects (instances) will have.\n",
        "eg-\n",
        "\n",
        "class Car: def __init__(self, brand):self.brand = brand def drive(self):  print\n",
        "\n",
        "(f\"{self.brand} is driving.\")\n"
      ],
      "metadata": {
        "id": "0PG5MRBWNlYH"
      }
    },
    {
      "cell_type": "markdown",
      "source": [
        "3. What is an object in OOP?\n",
        "\n",
        "An object is an instance of a class. It represents a real-world entity.\n",
        "eg-\n",
        "* my_car = Car(\"Toyota\")  # Object of class Car\n",
        "* my_car.drive()          # Output: Toyota is driving.\n"
      ],
      "metadata": {
        "id": "tKBjYUeSNlaY"
      }
    },
    {
      "cell_type": "markdown",
      "source": [
        "4. What is the difference between abstraction and encapsulation?\n",
        "\n",
        "| Feature | Abstraction                             | Encapsulation                                  |\n",
        "| ------- | --------------------------------------- | ---------------------------------------------- |\n",
        "| goal | Hides **complex implementation**        | Hides **data** and protects from direct access |\n",
        "| aim   | **What** an object does                 | **How** an object’s data is protected          |\n",
        "| eg | Interface showing only required methods | Using private variables with getters/setters   |\n"
      ],
      "metadata": {
        "id": "Jy9QzkwhNlc9"
      }
    },
    {
      "cell_type": "markdown",
      "source": [
        "5. What are dunder methods in Python?\n",
        "\n",
        "Dunder methods (double underscore methods) are special methods with names like \\__init__\\, \\__str__\\, \\__len__\\, etc.They are used to define behaviour for built- in functions.\n",
        "\n",
        "eg-class Book:def \\__init__\\(self, title): self.title = title def \\__str__\\(self):\n",
        "return f\"Book: {self.title}\"b = Book(\"Python 101\")print(b)  \n"
      ],
      "metadata": {
        "id": "9nNsvE00Nlfe"
      }
    },
    {
      "cell_type": "markdown",
      "source": [
        "6. Explain the concept of inheritance in OOP?\n",
        "\n",
        "Inheritance allows a class (child) to inherit properties and methods from another class (parent).\n",
        "\n",
        "eg-class Animal:def speak(self):print(\"Animal speaks\")class Dog(Animal): def bark(self):print(\"Dog barks\")d = Dog()d.speak()"
      ],
      "metadata": {
        "id": "Lb57WgjFNliE"
      }
    },
    {
      "cell_type": "markdown",
      "source": [
        "7. What is polymorphism in OOP?\n",
        "\n",
        "Polymorphism allows the same method name to behave differently for different classes.\n",
        "\n",
        "eg-class Cat:def sound(self):print(\"Meow\")class Dog:def sound(self):print(\"Bark\")for animal in [Cat(), Dog()]:animal.sound()"
      ],
      "metadata": {
        "id": "C6xdF9WTNlkV"
      }
    },
    {
      "cell_type": "markdown",
      "source": [
        "8. How is encapsulation achieved in Python?\n",
        "\n",
        "Using private variables (prefix with _ or __) and getter/setter methods:\n",
        "\n",
        "eg-class BankAccount:def \\__init__\\(self):self.\\__balance = 1000  # private variable def get_balance(self):return self.\\__balance def deposit(self, amount):\n",
        "self.__balance += amount"
      ],
      "metadata": {
        "id": "VLPh8VGENlmz"
      }
    },
    {
      "cell_type": "markdown",
      "source": [
        "9. What is a constructor in Python?\n",
        "\n",
        "A constructor is a special method (__init__) called when an object is created. It initializes the object’s attributes.eg-\n",
        "class Student: def \\__init__\\(self, name):self.name = name\n",
        "\n",
        "\n",
        "\n"
      ],
      "metadata": {
        "id": "ntU2sHOZNlpJ"
      }
    },
    {
      "cell_type": "markdown",
      "source": [
        "10. What are class and static methods in Python?\n",
        "\n",
        "A **class method** is a method that works with the class itself, not just an individual object. It takes cls as the first argument, which refers to the class. You define it using the @classmethod decorator. Class methods are useful for working with class-level data or creating objects in different ways.\n",
        "eg-class Student:count = 0 def __init__(self, name):self.name = name Student.count += 1 @classmethod def get_student_count(cls):return cls.count\n",
        "\n",
        "A **static method** is a method that doesn’t take self or cls as its first argument. It doesn't access or modify class or instance data. You define it using the @staticmethod decorator. Static methods are good for tasks that are related to the class but don’t need to use class or object data — like utility or helper functions.\n",
        "eg-class Math: @staticmethod def add(a, b):return a + b\n"
      ],
      "metadata": {
        "id": "F7rE7N3BNlsN"
      }
    },
    {
      "cell_type": "markdown",
      "source": [
        "11. What is method overloading in Python?\n",
        "Python doesn't support traditional method overloading (same method name with different arguments). Instead, it uses default arguments or *args, **kwargs to simulate overloading behavior.\n",
        "\n",
        "eg-def greet(name=None):if name:print(\"Hello\", name) else:print(\"Hello\")\n"
      ],
      "metadata": {
        "id": "MIYEGPXV9bhB"
      }
    },
    {
      "cell_type": "markdown",
      "source": [
        "12. What is method overriding in OOP?\n",
        "\n",
        "Method overriding occurs when a subclass provides a specific implementation of a method already defined in the parent class.\n",
        "\n",
        "eg-class Animal:def speak(self):print(\"Animal speaks\")class Dog(Animal):\n",
        "def speak(self):print(\"Dog barks\")\n"
      ],
      "metadata": {
        "id": "ivK0_8Pb9cc7"
      }
    },
    {
      "cell_type": "markdown",
      "source": [
        "13. What is a property decorator in Python?\n",
        "\n",
        "@property is used to make a method behave like an attribute, often for controlling access or validating changes.\n",
        "\n",
        "eg-class Circle: def __init__(self, radius):self._radius = radius @property def radius(self):return self._radius\n"
      ],
      "metadata": {
        "id": "F0SH3mDo9dKc"
      }
    },
    {
      "cell_type": "markdown",
      "source": [
        "14. Why is polymorphism important in OOP?\n",
        "\n",
        "Polymorphism allows the same method name to behave differently depending on the object type, enabling flexibility and code reuse."
      ],
      "metadata": {
        "id": "zMYMz2RG9dzt"
      }
    },
    {
      "cell_type": "markdown",
      "source": [
        "15. What is an abstract class in Python?\n",
        "\n",
        "An abstract class cannot be instantiated and may contain abstract methods (defined using @abstractmethod) that must be implemented by child classes.\n",
        "\n",
        "eg-from abc import ABC, abstractmethod class Shape(ABC):@abstractmethod\n",
        "def area(self):pass\n"
      ],
      "metadata": {
        "id": "LMjpL-za9eWo"
      }
    },
    {
      "cell_type": "markdown",
      "source": [
        "16. What are the advantages of OOP?\n",
        "\n",
        "* Code reusability (inheritance)\n",
        "* Modularity (encapsulation)\n",
        "* Extensibility\n",
        "* Maintainability\n",
        "* Real-world modeling"
      ],
      "metadata": {
        "id": "4MQgjrzp9fEa"
      }
    },
    {
      "cell_type": "markdown",
      "source": [
        "17. What is the difference between a class variable and an instance variable?\n",
        "\n",
        "* Class variables are shared across all instances.\n",
        "\n",
        "* Instance variables are unique to each object.\n",
        "\n",
        "eg-class Example:class_var = 0  # shared def __init__(self):self.instance_var = 1\n"
      ],
      "metadata": {
        "id": "Kf0Y8fba9frA"
      }
    },
    {
      "cell_type": "markdown",
      "source": [
        "18. What is multiple inheritance in Python?\n",
        "\n",
        "A class can inherit from more than one parent class.\n",
        "\n",
        "eg-class A:\n",
        "    pass\n",
        "\n",
        "class B:\n",
        "    pass\n",
        "\n",
        "class C(A, B):\n",
        "    pass\n"
      ],
      "metadata": {
        "id": "Rke2Z4sq9gDq"
      }
    },
    {
      "cell_type": "markdown",
      "source": [
        "19. Explain the purpose of ‘’__str__’ and ‘__repr__’ ‘ methods in Python?\n",
        "\n",
        "\\__str__\\() defines the user-friendly string representation.\n",
        "\n",
        "\\__repr__\\() defines the developer-friendly or official representation.\n",
        "\n",
        "eg-def __str__(self):\n",
        "    return \"Readable\"\n",
        "\n",
        "def __repr__(self):\n",
        "    return \"Developer View\"\n"
      ],
      "metadata": {
        "id": "-HLN1AV39glV"
      }
    },
    {
      "cell_type": "markdown",
      "source": [
        "20. What is the significance of the ‘super()’ function in Python?\n",
        "\n",
        "super() allows access to methods from the parent class, useful in method overriding or multiple inheritance.\n",
        "super().__init__()\n"
      ],
      "metadata": {
        "id": "IdUU2ZLc9hNS"
      }
    },
    {
      "cell_type": "markdown",
      "source": [
        "21. What is the significance of the __del__ method in Python?\n",
        "\n",
        "__del__() is a destructor method, called when an object is about to be destroyed. Use with care—it’s not always reliable (e.g., in cyclic references)."
      ],
      "metadata": {
        "id": "iSeh21jV9iA5"
      }
    },
    {
      "cell_type": "markdown",
      "source": [
        "22. What is the difference between @staticmethod and @classmethod in Python?\n",
        "\n",
        "@staticmethod doesn’t access class or instance data.\n",
        "\n",
        "@classmethod works with the class (cls) and can modify class state."
      ],
      "metadata": {
        "id": "f7gulvb6Nlvn"
      }
    },
    {
      "cell_type": "markdown",
      "source": [
        "23. How does polymorphism work in Python with inheritance?\n",
        "\n",
        "Derived classes can override base class methods, and Python will call the right one depending on the object type, enabling dynamic behavior."
      ],
      "metadata": {
        "id": "PEpkbp-bEYCA"
      }
    },
    {
      "cell_type": "markdown",
      "source": [
        "24. What is method chaining in Python OOP?\n",
        "\n",
        "Method chaining lets you call multiple methods in a single line by returning self from each method.\n",
        "class Person:def set_name(self, name): self.name = name return self def set_age(self, age):self.age = age return self p4 = Person().set_name(\"John\").set_age(30)\n",
        "\n"
      ],
      "metadata": {
        "id": "gYlHiL6AEZVv"
      }
    },
    {
      "cell_type": "markdown",
      "source": [
        "25. What is the purpose of the __call__ method in Python?\n",
        "\n",
        "__call__() lets an object be called like a function.\n",
        "eg-\n",
        "class Greet:def __call__(self):print(\"Hello!\")g = Greet()g()  # Calls g.__call__()\n"
      ],
      "metadata": {
        "id": "VzWf0EX4EaBt"
      }
    },
    {
      "cell_type": "code",
      "source": [
        "#1. Create a parent class Animal with a method speak() that prints a generic message. Create a child class Dog that overrides the speak() method to print \"Bark!\".\n",
        "class Animal:\n",
        "    def speak(self):\n",
        "        print(\"Generic animal sound\")\n",
        "\n",
        "class Dog(Animal):\n",
        "    def speak(self):\n",
        "        print(\"Bark!\")\n",
        "\n",
        "# Create an instance of Dog and call the speak() method\n",
        "dog = Dog()\n",
        "dog.speak()\n"
      ],
      "metadata": {
        "colab": {
          "base_uri": "https://localhost:8080/"
        },
        "id": "V_A_xglILF3x",
        "outputId": "a9cbf5a6-c5a7-4749-e72c-3d547559e61f"
      },
      "execution_count": 1,
      "outputs": [
        {
          "output_type": "stream",
          "name": "stdout",
          "text": [
            "Bark!\n"
          ]
        }
      ]
    },
    {
      "cell_type": "code",
      "source": [
        "#2.Write a program to create an abstract class Shape with a method area(). Derive classes Circle and Rectangle from it and implement the area() method in both.\n",
        "from abc import ABC, abstractmethod\n",
        "\n",
        "class Shape(ABC):\n",
        "    @abstractmethod\n",
        "    def area(self):\n",
        "        pass\n",
        "\n",
        "class Circle(Shape):\n",
        "    def __init__(self, radius):\n",
        "        self.radius = radius\n",
        "\n",
        "    def area(self):\n",
        "        return 3.14 * self.radius * self.radius\n",
        "\n",
        "class Rectangle(Shape):\n",
        "    def __init__(self, length, width):\n",
        "        self.length = length\n",
        "        self.width = width\n",
        "\n",
        "    def area(self):\n",
        "        return self.length * self.width\n",
        "\n",
        "circle = Circle(6)\n",
        "rectangle = Rectangle(8, 3)\n",
        "print(circle.area())\n",
        "print(rectangle.area())\n",
        "\n",
        "\n"
      ],
      "metadata": {
        "colab": {
          "base_uri": "https://localhost:8080/"
        },
        "id": "8P9j5PbnfKCe",
        "outputId": "74a4036b-5565-4504-dc2a-2f60f61797c1"
      },
      "execution_count": 9,
      "outputs": [
        {
          "output_type": "stream",
          "name": "stdout",
          "text": [
            "113.03999999999999\n",
            "24\n"
          ]
        }
      ]
    },
    {
      "cell_type": "code",
      "source": [
        "#3.Implement a multi-level inheritance scenario where a class Vehicle has an attribute type. Derive a class Car and further derive a class ElectricCar that adds a battery attribute.\n",
        "class Vehicle:\n",
        "    def __init__(self, type):\n",
        "        self.type = type\n",
        "\n",
        "class Car(Vehicle):\n",
        "    def __init__(self, type, brand):\n",
        "        super().__init__(type)\n",
        "        self.brand = brand\n",
        "\n",
        "class ElectricCar(Car):\n",
        "    def __init__(self, type, brand, battery):\n",
        "        super().__init__(type, brand)\n",
        "        self.battery = battery\n",
        "\n",
        "ecar = ElectricCar(\"Electric\", \"Ola\", \"60 kWh\")\n",
        "print(ecar.type, ecar.brand, ecar.battery)\n",
        "\n"
      ],
      "metadata": {
        "colab": {
          "base_uri": "https://localhost:8080/"
        },
        "id": "l9OMO4grav1I",
        "outputId": "a661d34a-f587-4a80-978d-ce5013b5abcf"
      },
      "execution_count": 5,
      "outputs": [
        {
          "output_type": "stream",
          "name": "stdout",
          "text": [
            "Electric Ola 60 kWh\n"
          ]
        }
      ]
    },
    {
      "cell_type": "code",
      "source": [
        "#4.Demonstrate polymorphism by creating a base class Bird with a method fly(). Create two derived classes Sparrow and Penguin that override the fly() method.\n",
        "class Bird:\n",
        "    def fly(self):\n",
        "        print(\"Birds can fly\")\n",
        "\n",
        "class Sparrow(Bird):\n",
        "    def fly(self):\n",
        "        print(\"Sparrows can fly\")\n",
        "\n",
        "class Penguin(Bird):\n",
        "    def fly(self):\n",
        "        print(\"Penguins cannot fly\")\n",
        "\n",
        "bird = Bird()\n",
        "sparrow = Sparrow()\n",
        "penguin = Penguin()\n",
        "\n",
        "bird.fly()\n",
        "sparrow.fly()\n",
        "penguin.fly()\n"
      ],
      "metadata": {
        "colab": {
          "base_uri": "https://localhost:8080/"
        },
        "id": "ELcS0k6Aavx1",
        "outputId": "4d5dfb92-fb53-41ad-90d9-3e4e5fcc6500"
      },
      "execution_count": 6,
      "outputs": [
        {
          "output_type": "stream",
          "name": "stdout",
          "text": [
            "Birds can fly\n",
            "Sparrows can fly\n",
            "Penguins cannot fly\n"
          ]
        }
      ]
    },
    {
      "cell_type": "code",
      "source": [
        "#5.Write a program to demonstrate encapsulation by creating a class BankAccount with private attributes balance and methods to deposit, withdraw, and check balance.\n",
        "class BankAccount:\n",
        "    def __init__(self, balance=0):\n",
        "        self.__balance = balance\n",
        "\n",
        "    def deposit(self, amount):\n",
        "        if amount > 0:\n",
        "            self.__balance += amount\n",
        "\n",
        "    def withdraw(self, amount):\n",
        "        if 0 < amount <= self.__balance:\n",
        "            self.__balance -= amount\n",
        "\n",
        "    def check_balance(self):\n",
        "        return self.__balance\n",
        "\n",
        "account = BankAccount()\n",
        "account.deposit(2000)\n",
        "account.withdraw(500)\n",
        "print(account.check_balance())\n"
      ],
      "metadata": {
        "colab": {
          "base_uri": "https://localhost:8080/"
        },
        "id": "pMCHFt7ifNBk",
        "outputId": "8c6d2495-cddb-49b4-bce7-8ad4d2d0f9fe"
      },
      "execution_count": 12,
      "outputs": [
        {
          "output_type": "stream",
          "name": "stdout",
          "text": [
            "1500\n"
          ]
        }
      ]
    },
    {
      "cell_type": "code",
      "source": [
        "#6.Demonstrate runtime polymorphism using a method play() in a base class Instrument. Derive classes Guitar and Piano that implement their own version of play().\n",
        "class Instrument:\n",
        "    def play(self):\n",
        "        print(\"Playing an instrument\")\n",
        "\n",
        "class Guitar(Instrument):\n",
        "    def play(self):\n",
        "        print(\"Playing a guitar\")\n",
        "\n",
        "class Piano(Instrument):\n",
        "    def play(self):\n",
        "        print(\"Playing a piano\")\n",
        "\n",
        "guitar = Guitar()\n",
        "piano = Piano()\n",
        "\n",
        "guitar.play()\n",
        "piano.play()\n"
      ],
      "metadata": {
        "colab": {
          "base_uri": "https://localhost:8080/"
        },
        "id": "I2hyyq4Qavs6",
        "outputId": "c542e1a6-1f45-4ee2-ff70-f517a44f513b"
      },
      "execution_count": 13,
      "outputs": [
        {
          "output_type": "stream",
          "name": "stdout",
          "text": [
            "Playing a guitar\n",
            "Playing a piano\n"
          ]
        }
      ]
    },
    {
      "cell_type": "code",
      "source": [
        "#7.Create a class MathOperations with a class method add_numbers() to add two numbers and a static method subtract_numbers() to subtract two numbers.\n",
        "class MathOperations:\n",
        "    @classmethod\n",
        "    def add_numbers(cls, a, b):\n",
        "        return a + b\n",
        "\n",
        "    @staticmethod\n",
        "    def subtract_numbers(a, b):\n",
        "        return a - b\n",
        "\n",
        "print(MathOperations.add_numbers(5, 3))\n",
        "print(MathOperations.subtract_numbers(10, 4))"
      ],
      "metadata": {
        "colab": {
          "base_uri": "https://localhost:8080/"
        },
        "id": "SAVIsN6eavqA",
        "outputId": "853a5338-896f-4e74-ea70-5f001ff92e77"
      },
      "execution_count": 14,
      "outputs": [
        {
          "output_type": "stream",
          "name": "stdout",
          "text": [
            "8\n",
            "6\n"
          ]
        }
      ]
    },
    {
      "cell_type": "code",
      "source": [
        "#8.Implement a class Person with a class method to count the total number of persons created.\n",
        "class Person:\n",
        "    count = 0\n",
        "\n",
        "    def __init__(self, name):\n",
        "        self.name = name\n",
        "        Person.count += 1\n",
        "\n",
        "    @classmethod\n",
        "    def total_persons(cls):\n",
        "        return cls.count\n",
        "\n",
        "p1 = Person(\"Alice\")\n",
        "p2 = Person(\"Bob\")\n",
        "p3 = Person(\"Charlie\")\n",
        "print(Person.total_persons())\n",
        "\n"
      ],
      "metadata": {
        "colab": {
          "base_uri": "https://localhost:8080/"
        },
        "id": "IM9i-sj8avnp",
        "outputId": "fc0826ca-bf13-4983-8e22-28c7c3a70738"
      },
      "execution_count": 17,
      "outputs": [
        {
          "output_type": "stream",
          "name": "stdout",
          "text": [
            "3\n"
          ]
        }
      ]
    },
    {
      "cell_type": "code",
      "source": [
        "#9.Write a class Fraction with attributes numerator and denominator. Override the str method to display the fraction as \"numerator/denominator\".\n",
        "class Fraction:\n",
        "    def __init__(self, numerator, denominator):\n",
        "        self.numerator = numerator\n",
        "        self.denominator = denominator\n",
        "\n",
        "    def __str__(self):\n",
        "        return f\"{self.numerator}/{self.denominator}\"\n",
        "\n",
        "f = Fraction(2, 9)\n",
        "print(f)"
      ],
      "metadata": {
        "colab": {
          "base_uri": "https://localhost:8080/"
        },
        "id": "Pn-KQJJuiZu5",
        "outputId": "bfcc274f-e74e-4ca2-db05-bc8060048d3f"
      },
      "execution_count": 31,
      "outputs": [
        {
          "output_type": "stream",
          "name": "stdout",
          "text": [
            "2/9\n"
          ]
        }
      ]
    },
    {
      "cell_type": "code",
      "source": [
        "#10.Demonstrate operator overloading by creating a class Vector and overriding the add method to add two vectors.\n",
        "class Vector:\n",
        "    def __init__(self, x, y):\n",
        "        self.x = x\n",
        "        self.y = y\n",
        "\n",
        "    def __add__(self, other):\n",
        "        return Vector(self.x + other.x, self.y + other.y)\n",
        "\n",
        "v1 = Vector(9, 2)\n",
        "v2 = Vector(3, 6)\n",
        "v3 = v1 + v2\n",
        "print(v3.x, v3.y)"
      ],
      "metadata": {
        "colab": {
          "base_uri": "https://localhost:8080/"
        },
        "id": "t2l1fKGcdX_N",
        "outputId": "c633b633-e92b-4089-e162-012d8907b146"
      },
      "execution_count": 21,
      "outputs": [
        {
          "output_type": "stream",
          "name": "stdout",
          "text": [
            "12 8\n"
          ]
        }
      ]
    },
    {
      "cell_type": "code",
      "source": [
        "#11.Create a class Person with attributes name and age. Add a method greet() that prints \"Hello, my name is {name} and I am {age} years old.\"\n",
        "class Person:\n",
        "    def __init__(self, name, age):\n",
        "        self.name = name\n",
        "        self.age = age\n",
        "\n",
        "    def greet(self):\n",
        "        print(f\"Hello, my name is {self.name} and I am {self.age} years old.\")\n",
        "\n",
        "p = Person(\"Pratiksha\", 21)\n",
        "p.greet()\n",
        "\n"
      ],
      "metadata": {
        "colab": {
          "base_uri": "https://localhost:8080/"
        },
        "id": "B-LC7SrOdX8T",
        "outputId": "04947837-d54d-4778-b77b-f1eb699bba1b"
      },
      "execution_count": 22,
      "outputs": [
        {
          "output_type": "stream",
          "name": "stdout",
          "text": [
            "Hello, my name is Pratiksha and I am 21 years old.\n"
          ]
        }
      ]
    },
    {
      "cell_type": "code",
      "source": [
        "#12.Implement a class Student with attributes name and grades. Create a method average_grade() to compute the average of the grades.\n",
        "class Student:\n",
        "    def __init__(self, name, grades):\n",
        "        self.name = name\n",
        "        self.grades = grades\n",
        "\n",
        "    def average_grade(self):\n",
        "        return sum(self.grades) / len(self.grades)\n",
        "\n",
        "s = Student(\"pratiksha\", [90, 95, 98])\n",
        "print(s.average_grade())\n",
        "\n"
      ],
      "metadata": {
        "colab": {
          "base_uri": "https://localhost:8080/"
        },
        "id": "_Syg10_UdX6S",
        "outputId": "def91623-6d3d-4435-80ac-d7beecd1de8b"
      },
      "execution_count": 23,
      "outputs": [
        {
          "output_type": "stream",
          "name": "stdout",
          "text": [
            "94.33333333333333\n"
          ]
        }
      ]
    },
    {
      "cell_type": "code",
      "source": [
        "#13.Create a class Rectangle with methods set_dimensions() to set the dimensions and area() to calculate the area.\n",
        "class Rectangle:\n",
        "    def set_dimensions(self, length, breadth):\n",
        "        self.length = length\n",
        "        self.breadth = breadth\n",
        "\n",
        "    def area(self):\n",
        "        return self.length * self.breadth\n",
        "\n",
        "r = Rectangle()\n",
        "r.set_dimensions(8, 9)\n",
        "print(r.area())\n"
      ],
      "metadata": {
        "colab": {
          "base_uri": "https://localhost:8080/"
        },
        "id": "EHuo5zvbdjGc",
        "outputId": "fcd39d88-5cc0-4bf9-bbc1-6eb0c0f8e02f"
      },
      "execution_count": 30,
      "outputs": [
        {
          "output_type": "stream",
          "name": "stdout",
          "text": [
            "72\n"
          ]
        }
      ]
    },
    {
      "cell_type": "code",
      "source": [
        "#14.Create a class Employee with a method calculate_salary() that computes the salary based on hours worked and hourly rate. Create a derived class Manager that adds a bonus to the salary.\n",
        "class Employee:\n",
        "    def calculate_salary(self, hours_worked, hourly_rate):\n",
        "        return hours_worked * hourly_rate\n",
        "\n",
        "class Manager(Employee):\n",
        "    def calculate_salary(self, hours_worked, hourly_rate, bonus=0):\n",
        "        base_salary = super().calculate_salary(hours_worked, hourly_rate)\n",
        "        return base_salary + bonus\n",
        "\n",
        "e = Employee()\n",
        "m = Manager()\n",
        "print(e.calculate_salary(60, 50))        # Employee salary\n",
        "print(m.calculate_salary(30, 50, 500))   # Manager salary with bonus\n"
      ],
      "metadata": {
        "colab": {
          "base_uri": "https://localhost:8080/"
        },
        "id": "URUSyaXCdX38",
        "outputId": "dba309fb-9dbe-4617-8163-729e6d7987a1"
      },
      "execution_count": 28,
      "outputs": [
        {
          "output_type": "stream",
          "name": "stdout",
          "text": [
            "3000\n",
            "2000\n"
          ]
        }
      ]
    },
    {
      "cell_type": "code",
      "source": [
        "#15.Create a class Product with attributes name, price, and quantity. Implement a method total_price() that calculates the total price of the product.\n",
        "class Product:\n",
        "    def __init__(self, name, price, quantity):\n",
        "        self.name = name\n",
        "        self.price = price\n",
        "        self.quantity = quantity\n",
        "\n",
        "    def total_price(self):\n",
        "        return self.price * self.quantity\n",
        "\n",
        "p = Product(\"tablet\", 50000, 2)\n",
        "print(p.total_price())\n"
      ],
      "metadata": {
        "colab": {
          "base_uri": "https://localhost:8080/"
        },
        "id": "NJQOPHN7dr0Y",
        "outputId": "5d7c15e8-33c5-4206-f9dc-cfbe89ee90e6"
      },
      "execution_count": 27,
      "outputs": [
        {
          "output_type": "stream",
          "name": "stdout",
          "text": [
            "100000\n"
          ]
        }
      ]
    },
    {
      "cell_type": "code",
      "source": [
        "#16.Create a class Animal with an abstract method sound(). Create two derived classes Cow and Sheep that implement the sound() method.\n",
        "from abc import ABC, abstractmethod\n",
        "\n",
        "class Animal(ABC):\n",
        "    @abstractmethod\n",
        "    def sound(self):\n",
        "        pass\n",
        "\n",
        "class Cow(Animal):\n",
        "    def sound(self):\n",
        "        return \"Moo\"\n",
        "\n",
        "class Sheep(Animal):\n",
        "    def sound(self):\n",
        "        return \"Baa\"\n",
        "\n",
        "c = Cow()\n",
        "s = Sheep()\n",
        "print(c.sound())\n",
        "print(s.sound())\n"
      ],
      "metadata": {
        "colab": {
          "base_uri": "https://localhost:8080/"
        },
        "id": "gd6MxcOOdXvY",
        "outputId": "7e0721ef-a5f3-477d-f689-1665a24bea8c"
      },
      "execution_count": 26,
      "outputs": [
        {
          "output_type": "stream",
          "name": "stdout",
          "text": [
            "Moo\n",
            "Baa\n"
          ]
        }
      ]
    },
    {
      "cell_type": "code",
      "source": [
        "#17.Create a class Book with attributes title, author, and year_published. Add a method get_book_info() that returns a formatted string with the book's details.\n",
        "class Book:\n",
        "    def __init__(self, title, author, year_published):\n",
        "        self.title = title\n",
        "        self.author = author\n",
        "        self.year_published = year_published\n",
        "\n",
        "    def get_book_info(self):\n",
        "        return f\"'{self.title}' by {self.author} (Published in {self.year_published})\"\n",
        "\n",
        "b = Book(\"Ikigai\", \"Hector Garcia\", 2017)\n",
        "print(b.get_book_info())\n"
      ],
      "metadata": {
        "colab": {
          "base_uri": "https://localhost:8080/"
        },
        "id": "4e-Y2vkldXr9",
        "outputId": "9c113ec5-134a-4c8b-8c63-e1e60fd99b74"
      },
      "execution_count": 25,
      "outputs": [
        {
          "output_type": "stream",
          "name": "stdout",
          "text": [
            "'Ikigai' by Hector Garcia (Published in 2017)\n"
          ]
        }
      ]
    },
    {
      "cell_type": "code",
      "source": [
        "#18.Create a class House with attributes address and price. Create a derived class Mansion that adds an attribute number_of_rooms.\n",
        "class House:\n",
        "    def __init__(self, address, price):\n",
        "        self.address = address\n",
        "        self.price = price\n",
        "\n",
        "class Mansion(House):\n",
        "    def __init__(self, address, price, number_of_rooms):\n",
        "        super().__init__(address, price)\n",
        "        self.number_of_rooms = number_of_rooms\n",
        "\n",
        "m = Mansion(\"Alexander lane\", 60000000, 14)\n",
        "print(m.address, m.price, m.number_of_rooms)\n"
      ],
      "metadata": {
        "colab": {
          "base_uri": "https://localhost:8080/"
        },
        "id": "LvJFldJzdXpn",
        "outputId": "faa58484-525a-4f31-ba09-10dac439f5a3"
      },
      "execution_count": 24,
      "outputs": [
        {
          "output_type": "stream",
          "name": "stdout",
          "text": [
            "Alexander lane 60000000 14\n"
          ]
        }
      ]
    },
    {
      "cell_type": "code",
      "source": [],
      "metadata": {
        "id": "Oauv9YtJdXnU"
      },
      "execution_count": null,
      "outputs": []
    },
    {
      "cell_type": "code",
      "source": [],
      "metadata": {
        "id": "0UgmUys-dXgk"
      },
      "execution_count": null,
      "outputs": []
    }
  ]
}