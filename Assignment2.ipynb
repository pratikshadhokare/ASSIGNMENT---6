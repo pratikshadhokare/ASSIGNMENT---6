{
  "nbformat": 4,
  "nbformat_minor": 0,
  "metadata": {
    "colab": {
      "provenance": []
    },
    "kernelspec": {
      "name": "python3",
      "display_name": "Python 3"
    },
    "language_info": {
      "name": "python"
    }
  },
  "cells": [
    {
      "cell_type": "markdown",
      "source": [
        "ASSIGNMENT-2"
      ],
      "metadata": {
        "id": "Ycj625mcA7qa"
      }
    },
    {
      "cell_type": "markdown",
      "source": [
        "1. What are data structures, and why are they important?\n",
        "\n",
        "Data structures store and organize data. They're important because they help process and access data efficiently (like lists, stacks, queues, etc.)"
      ],
      "metadata": {
        "id": "mvwbTKI1A9OY"
      }
    },
    {
      "cell_type": "markdown",
      "source": [
        "2. Explain the difference between mutable and immutable data types with examples?\n",
        "\n",
        "Mutable: Can be changed after creation.\n",
        "Example: list\n",
        "Immutable: Cannot be changed after creation.\n",
        "Example: tuple, string"
      ],
      "metadata": {
        "id": "dBPlqLZBA9Qu"
      }
    },
    {
      "cell_type": "markdown",
      "source": [
        "3. What are the main differences between lists and tuples in Python?\n",
        "\n",
        " A list is a mutable, ordered collection of items in Python, meaning you can change, add, or remove elements. It uses square brackets []. A tuple is similar to a list but is immutable, meaning its values cannot be changed once created. Tuples use parentheses ().\n",
        "Use lists when data needs to change, and tuples when data should remain constant."
      ],
      "metadata": {
        "id": "JDEI7s7FCZMp"
      }
    },
    {
      "cell_type": "markdown",
      "source": [
        "4. Describe how dictionaries store data?\n",
        "\n",
        "Dictionaries use a key-value pair format. Internally,\n",
        "they use a hash table to store keys and map them to values efficiently."
      ],
      "metadata": {
        "id": "711wcR-fCZ4H"
      }
    },
    {
      "cell_type": "markdown",
      "source": [
        "5. Why might you use a set instead of a list in Python?\n",
        "\n",
        "a)To store unique values (sets automatically remove duplicates).\n",
        "b)Faster lookup (checking if a value exists).\n",
        "c)Useful for set operations like union, intersection, etc."
      ],
      "metadata": {
        "id": "eXxZnTUgCwgB"
      }
    },
    {
      "cell_type": "markdown",
      "source": [
        "6. What is a string in Python, and how is it different from a list?\n",
        "\n",
        "A string is a sequence of characters: \"hello\"\n",
        "A list can store any data type: ['h', 'e', 'l', 'l', 'o']\n",
        "Strings are immutable, lists are mutable."
      ],
      "metadata": {
        "id": "aWj--4WwCxG8"
      }
    },
    {
      "cell_type": "markdown",
      "source": [
        "7. How do tuples ensure data integrity in Python?\n",
        "\n",
        "Because tuples are immutable, their content can’t be changed.\n",
        "This ensures the data remains constant and protected, which is useful in fixed collections (like coordinates)."
      ],
      "metadata": {
        "id": "FfEeRgLfCxne"
      }
    },
    {
      "cell_type": "markdown",
      "source": [
        "8. What is a hash table, and how does it relate to dictionaries in Python?\n",
        "\n",
        "A hash table maps keys to indexes using a hash function.\n",
        "Python dictionaries use hash tables internally for fast access to values using keys."
      ],
      "metadata": {
        "id": "IgYJNoE3CyNd"
      }
    },
    {
      "cell_type": "markdown",
      "source": [
        "9. Can lists contain different data types in Python?\n",
        "\n",
        "Yes, list can contain different datatypes in a python."
      ],
      "metadata": {
        "id": "QpLvsHVaCzkB"
      }
    },
    {
      "cell_type": "markdown",
      "source": [
        "10. Explain why strings are immutable in Python?\n",
        "\n",
        "Safety: Prevents accidental modification.\n",
        "Efficiency: Easier to optimize and cache.\n",
        "Sharing: Multiple variables can point to the same string without copying."
      ],
      "metadata": {
        "id": "GfK0QmjMC0DB"
      }
    },
    {
      "cell_type": "markdown",
      "source": [
        "11. What advantages do dictionaries offer over lists for certain tasks?\n",
        "\n",
        "a) Fast access using keys (O(1) time).\n",
        "\n",
        "b)More meaningful data representation (e.g., name-value pairs).\n",
        "\n",
        "c)Avoids using indexes, which are harder to track in large data sets."
      ],
      "metadata": {
        "id": "6_wBkuCgC0lX"
      }
    },
    {
      "cell_type": "markdown",
      "source": [
        "12. Describe a scenario where using a tuple would be preferable over a list?\n",
        "\n",
        "When you need a fixed set of values that shouldn't change.\n",
        "Example: GPS coordinates (27.7041, 85.3086) or days of the week."
      ],
      "metadata": {
        "id": "9GKuhfDLC1Ed"
      }
    },
    {
      "cell_type": "markdown",
      "source": [
        "13. How do sets handle duplicate values in Python?\n",
        "\n",
        "Sets automatically remove duplicates."
      ],
      "metadata": {
        "id": "NbIxD6X4GNAh"
      }
    },
    {
      "cell_type": "markdown",
      "source": [
        "14. How does the “in” keyword work differently for lists and dictionaries?\n",
        "\n",
        "n lists: checks for values\n",
        "'''\n",
        "2 in [1, 2, 3] → True\n",
        "\n",
        "# In dicts: checks for keys\n",
        "'name' in {'name': 'Candace'} → True"
      ],
      "metadata": {
        "id": "YfkSRwszGNlr"
      }
    },
    {
      "cell_type": "markdown",
      "source": [
        "15. D(P Can you modify the elements of a tuple? Explain why or why not?\n",
        "\n",
        "No, because tuples are immutable.\n",
        "Once created, elements cannot be added, removed, or changed."
      ],
      "metadata": {
        "id": "ZWlJUHwuGOHR"
      }
    },
    {
      "cell_type": "markdown",
      "source": [
        "16. What is a nested dictionary, and give an example of its use case?\n",
        "\n",
        "A nested dictionary means , A dictionary inside another dictionary."
      ],
      "metadata": {
        "id": "yFTvM4K5GOoQ"
      }
    },
    {
      "cell_type": "markdown",
      "source": [
        "17. Describe the time complexity of accessing elements in a dictionary?\n",
        "\n",
        "O(1) – constant time using hashing.\n",
        "Fast even for large datasets, unlike lists (which are O(n))."
      ],
      "metadata": {
        "id": "_7eEN8TAI7Vh"
      }
    },
    {
      "cell_type": "markdown",
      "source": [
        "18. In what situations are lists preferred over dictionaries?\n",
        "\n",
        "When order matters (especially before Python 3.7).\n",
        "\n",
        "When you only need indexed data.\n",
        "\n",
        "When keys are not needed, e.g., iterating over items in order."
      ],
      "metadata": {
        "id": "-9OTIODQI8rD"
      }
    },
    {
      "cell_type": "markdown",
      "source": [
        "19. Why are dictionaries considered unordered, and how does that affect data retrieval?\n",
        "\n",
        "Older Python versions (before 3.7) did not guarantee key order.\n",
        "Now, insertion order is preserved, but they’re still accessed using keys, not index."
      ],
      "metadata": {
        "id": "mIOLNsaTI9WF"
      }
    },
    {
      "cell_type": "markdown",
      "source": [
        "20. Explain the difference between a list and a dictionary in terms of data retrieval?\n",
        "\n",
        "A list is an ordered collection accessed by index, useful for storing items in sequence. A dictionary is an unordered collection of key-value pairs, accessed by keys, ideal for labeled data. Lists allow duplicates and use positions;\n",
        "dictionaries use unique keys for fast lookup."
      ],
      "metadata": {
        "id": "t9wr13OyI-Kc"
      }
    },
    {
      "cell_type": "markdown",
      "source": [
        "PRACTICAL QUESTIONS"
      ],
      "metadata": {
        "id": "E8Xx0SuXMDrn"
      }
    },
    {
      "cell_type": "code",
      "source": [
        "#1Write a code to create a string with your name and print it?\n",
        "string=\"Pratiksha\"\n",
        "print(\"My name is \",string)"
      ],
      "metadata": {
        "colab": {
          "base_uri": "https://localhost:8080/"
        },
        "id": "144LrD6cMGaa",
        "outputId": "e5e338e0-9742-4b39-c62b-06c28a4127f2"
      },
      "execution_count": null,
      "outputs": [
        {
          "output_type": "stream",
          "name": "stdout",
          "text": [
            "My name is  Pratiksha\n"
          ]
        }
      ]
    },
    {
      "cell_type": "code",
      "source": [
        "#2Write a code to find the length of the string \"Hello World\"?\n",
        "print(len(\"hello world\"))\n"
      ],
      "metadata": {
        "colab": {
          "base_uri": "https://localhost:8080/"
        },
        "id": "uJIca_lwNWe6",
        "outputId": "c575fdae-9ff9-4433-f95f-7a3efd215be1"
      },
      "execution_count": null,
      "outputs": [
        {
          "output_type": "stream",
          "name": "stdout",
          "text": [
            "11\n"
          ]
        }
      ]
    },
    {
      "cell_type": "code",
      "source": [
        "#3Write a code to slice the first 3 characters from the string \"Python Programming\"?\n",
        "word=\"python programming\"\n",
        "word[0:3]\n"
      ],
      "metadata": {
        "colab": {
          "base_uri": "https://localhost:8080/",
          "height": 36
        },
        "id": "vAxUvgRaNWbT",
        "outputId": "ca6219d8-3a51-4092-8699-c4e4a3cdc874"
      },
      "execution_count": null,
      "outputs": [
        {
          "output_type": "execute_result",
          "data": {
            "text/plain": [
              "'pyt'"
            ],
            "application/vnd.google.colaboratory.intrinsic+json": {
              "type": "string"
            }
          },
          "metadata": {},
          "execution_count": 31
        }
      ]
    },
    {
      "cell_type": "code",
      "source": [
        "#4Write a code to convert the string \"hello\" to uppercase?\n",
        "s1=\"hello\"\n",
        "print(s1.upper())"
      ],
      "metadata": {
        "colab": {
          "base_uri": "https://localhost:8080/"
        },
        "id": "OMpYN3AUNWYq",
        "outputId": "7344e012-d478-436e-b6de-193f774d7726"
      },
      "execution_count": null,
      "outputs": [
        {
          "output_type": "stream",
          "name": "stdout",
          "text": [
            "HELLO\n"
          ]
        }
      ]
    },
    {
      "cell_type": "code",
      "source": [
        "#5Write a code to replace the word \"apple\" with \"orange\" in the string \"I like apple\"?\n",
        "s2=\"I like apple\"\n",
        "print(\"replacing apple \")\n",
        "print(s2.replace(\"apple\",\"orange\"))"
      ],
      "metadata": {
        "colab": {
          "base_uri": "https://localhost:8080/"
        },
        "id": "mqRMuQroQngo",
        "outputId": "7a58a0f9-7377-4283-bfa9-1e55341d0362"
      },
      "execution_count": null,
      "outputs": [
        {
          "output_type": "stream",
          "name": "stdout",
          "text": [
            "replacing apple \n",
            "I like orange\n"
          ]
        }
      ]
    },
    {
      "cell_type": "code",
      "source": [
        "#6Write a code to create a list with numbers 1 to 5 and print it?\n",
        "list=[1,2,3,4,5]\n",
        "print(list)"
      ],
      "metadata": {
        "colab": {
          "base_uri": "https://localhost:8080/"
        },
        "id": "MMvsjWugNWV3",
        "outputId": "c62556da-f83d-4f23-e0bc-f1aff0c6ca62"
      },
      "execution_count": null,
      "outputs": [
        {
          "output_type": "stream",
          "name": "stdout",
          "text": [
            "[1, 2, 3, 4, 5]\n"
          ]
        }
      ]
    },
    {
      "cell_type": "code",
      "source": [
        "#7Write a code to append the number 10 to the list [1, 2, 3, 4]?\n",
        "list=[1,2,3,4]\n",
        "list.append(10)\n",
        "print(list)\n"
      ],
      "metadata": {
        "colab": {
          "base_uri": "https://localhost:8080/"
        },
        "id": "f4ZJg6p2NWS_",
        "outputId": "8a517da1-b677-4c4b-d43e-e144241aa828"
      },
      "execution_count": null,
      "outputs": [
        {
          "output_type": "stream",
          "name": "stdout",
          "text": [
            "[1, 2, 3, 4, 10]\n"
          ]
        }
      ]
    },
    {
      "cell_type": "code",
      "source": [
        "#8Write a code to remove the number 3 from the list [1, 2, 3, 4, 5]?\n",
        "list=[1,2,3,4,5]\n",
        "list.remove(3)\n",
        "print(list)\n"
      ],
      "metadata": {
        "colab": {
          "base_uri": "https://localhost:8080/"
        },
        "id": "HfvwLTm8NWP4",
        "outputId": "2de72b31-10f1-4bc4-ed39-a72d7c87a292"
      },
      "execution_count": null,
      "outputs": [
        {
          "output_type": "stream",
          "name": "stdout",
          "text": [
            "[1, 2, 4, 5]\n"
          ]
        }
      ]
    },
    {
      "cell_type": "code",
      "source": [
        "#9Write a code to access the second element in the list ['a', 'b', 'c', 'd']?\n",
        "list=['a','b','c','d']\n",
        "print(list[1])"
      ],
      "metadata": {
        "colab": {
          "base_uri": "https://localhost:8080/"
        },
        "id": "nptsm7T8NWNM",
        "outputId": "7df4a394-b7e0-4607-f292-dff6422afcb9"
      },
      "execution_count": null,
      "outputs": [
        {
          "output_type": "stream",
          "name": "stdout",
          "text": [
            "b\n"
          ]
        }
      ]
    },
    {
      "cell_type": "code",
      "source": [
        "#10Write a code to reverse the list [10, 20, 30, 40, 50]?\n",
        "list=[10,20,30,40,50]\n",
        "print(list[::-1])\n"
      ],
      "metadata": {
        "colab": {
          "base_uri": "https://localhost:8080/"
        },
        "id": "ZDN5HMF6NWKd",
        "outputId": "d0a770db-eb2b-4811-82c8-e2e47e940e0d"
      },
      "execution_count": null,
      "outputs": [
        {
          "output_type": "stream",
          "name": "stdout",
          "text": [
            "[50, 40, 30, 20, 10]\n"
          ]
        }
      ]
    },
    {
      "cell_type": "code",
      "source": [
        "#11Write a code to create a tuple with the elements 100, 200, 300 and print it?\n",
        "tuple=(100,200,300)\n",
        "print(tuple)"
      ],
      "metadata": {
        "colab": {
          "base_uri": "https://localhost:8080/"
        },
        "id": "ZB5wKdpQUraZ",
        "outputId": "914a664d-6928-4492-9b40-5c9e5d18c640"
      },
      "execution_count": null,
      "outputs": [
        {
          "output_type": "stream",
          "name": "stdout",
          "text": [
            "(100, 200, 300)\n"
          ]
        }
      ]
    },
    {
      "cell_type": "code",
      "source": [
        "#12Write a code to access the second-to-last element of the tuple ('red', 'green', 'blue', 'yellow').\n",
        "tuple=('red','green','blue','yellow')\n",
        "print(tuple[-2])"
      ],
      "metadata": {
        "colab": {
          "base_uri": "https://localhost:8080/"
        },
        "id": "_XBCQtqmUq8u",
        "outputId": "13bc4368-7f37-487c-c498-1a251b667149"
      },
      "execution_count": null,
      "outputs": [
        {
          "output_type": "stream",
          "name": "stdout",
          "text": [
            "blue\n"
          ]
        }
      ]
    },
    {
      "cell_type": "code",
      "source": [
        "#13Write a code to find the minimum number in the tuple (10, 20, 5, 15)?\n",
        "tuple=(10,20,5,15)\n",
        "print(min(tuple))"
      ],
      "metadata": {
        "colab": {
          "base_uri": "https://localhost:8080/"
        },
        "id": "bLKe3wxiUq5L",
        "outputId": "f1fefbbf-a2a8-4de7-f3b5-8f66bfd5fc10"
      },
      "execution_count": null,
      "outputs": [
        {
          "output_type": "stream",
          "name": "stdout",
          "text": [
            "5\n"
          ]
        }
      ]
    },
    {
      "cell_type": "code",
      "source": [
        "#14Write a code to find the index of the element \"cat\" in the tuple ('dog', 'cat', 'rabbit')?\n",
        "tuple=('dog','cat','rabbit')\n",
        "print(tuple.index('cat'))"
      ],
      "metadata": {
        "colab": {
          "base_uri": "https://localhost:8080/"
        },
        "id": "XNRBTPYmUq20",
        "outputId": "9c80be91-b379-48df-924e-641c33508ecc"
      },
      "execution_count": null,
      "outputs": [
        {
          "output_type": "stream",
          "name": "stdout",
          "text": [
            "1\n"
          ]
        }
      ]
    },
    {
      "cell_type": "code",
      "source": [
        "#15Write a code to create a tuple containing three different fruits and check if \"kiwi\" is in it?\n",
        "tuple=(\"apple\",\"banana\",\"kiwi\")\n",
        "print(\"kiwi\" in tuple)"
      ],
      "metadata": {
        "colab": {
          "base_uri": "https://localhost:8080/"
        },
        "id": "lmzzQJwBUq0X",
        "outputId": "e38a3a32-dbc7-4dcb-a149-ea8a5dbc3bf6"
      },
      "execution_count": null,
      "outputs": [
        {
          "output_type": "stream",
          "name": "stdout",
          "text": [
            "True\n"
          ]
        }
      ]
    },
    {
      "cell_type": "code",
      "source": [
        "#16Write a code to create a set with the elements 'a', 'b', 'c' and print it.\n",
        "set={'a','b','c'}\n",
        "print(set)"
      ],
      "metadata": {
        "colab": {
          "base_uri": "https://localhost:8080/"
        },
        "id": "B2jQKJNvUqxm",
        "outputId": "8abe10c0-5165-4377-aa20-fbb6fce15077"
      },
      "execution_count": null,
      "outputs": [
        {
          "output_type": "stream",
          "name": "stdout",
          "text": [
            "{'c', 'a', 'b'}\n"
          ]
        }
      ]
    },
    {
      "cell_type": "code",
      "source": [
        "#17Write a code to clear all elements from the set {1, 2, 3, 4, 5}.\n",
        "set={1,2,3,4,5}\n",
        "set.clear()\n",
        "print(set)"
      ],
      "metadata": {
        "colab": {
          "base_uri": "https://localhost:8080/"
        },
        "id": "HDJdvmNYUqu6",
        "outputId": "01e3d40e-c0a2-4c5f-e3b5-a17d2576e98d"
      },
      "execution_count": null,
      "outputs": [
        {
          "output_type": "stream",
          "name": "stdout",
          "text": [
            "set()\n"
          ]
        }
      ]
    },
    {
      "cell_type": "code",
      "source": [
        "#18Write a code to remove the element 4 from the set {1, 2, 3, 4}.\n",
        "set={1,2,3,4}\n",
        "set.remove(4)\n",
        "print(set)\n"
      ],
      "metadata": {
        "colab": {
          "base_uri": "https://localhost:8080/"
        },
        "id": "V8azdJrVUqsg",
        "outputId": "96de69f2-4d59-4ae4-d79c-04b39cfecffa"
      },
      "execution_count": null,
      "outputs": [
        {
          "output_type": "stream",
          "name": "stdout",
          "text": [
            "{1, 2, 3}\n"
          ]
        }
      ]
    },
    {
      "cell_type": "code",
      "source": [
        "#19Write a code to find the union of two sets {1, 2, 3} and {3, 4, 5}.\n",
        "set1={1,2,3}\n",
        "set2={3,4,5}\n",
        "print(set1.union(set2))\n"
      ],
      "metadata": {
        "colab": {
          "base_uri": "https://localhost:8080/"
        },
        "id": "00lGbhenUqqB",
        "outputId": "98e7eb1e-63ce-495d-d814-cee95e0637cc"
      },
      "execution_count": null,
      "outputs": [
        {
          "output_type": "stream",
          "name": "stdout",
          "text": [
            "{1, 2, 3, 4, 5}\n"
          ]
        }
      ]
    },
    {
      "cell_type": "code",
      "source": [
        "#20Write a code to find the intersection of two sets {1, 2, 3} and {2, 3, 4}.\n",
        "set1={1,2,3}\n",
        "set2={2,3,4}\n",
        "print(set1.intersection(set2))"
      ],
      "metadata": {
        "colab": {
          "base_uri": "https://localhost:8080/"
        },
        "id": "_RlmRbjRUqnk",
        "outputId": "ff8027e8-a60b-4df3-d76d-5e6c5b4b22f7"
      },
      "execution_count": null,
      "outputs": [
        {
          "output_type": "stream",
          "name": "stdout",
          "text": [
            "{2, 3}\n"
          ]
        }
      ]
    },
    {
      "cell_type": "code",
      "source": [
        "#21Write a code to create a dictionary with the keys \"name\", \"age\", and \"city\", and print it.\n",
        "dict={\"name\":\"pratiksha\",\"age\":21,\"city\":\"pune\"}\n",
        "print(dict)"
      ],
      "metadata": {
        "id": "PYGQbEYIUqgm",
        "colab": {
          "base_uri": "https://localhost:8080/"
        },
        "outputId": "307cad5b-84c3-4ac0-90d3-f9650f07a10a"
      },
      "execution_count": 53,
      "outputs": [
        {
          "output_type": "stream",
          "name": "stdout",
          "text": [
            "{'name': 'pratiksha', 'age': 21, 'city': 'pune'}\n"
          ]
        }
      ]
    },
    {
      "cell_type": "code",
      "source": [
        "#22Write a code to add a new key-value pair \"country\": \"USA\" to the dictionary {'name': 'John', 'age': 25}.\n",
        "dict={'name': 'John', 'age': 25}\n",
        "dict[\"country\"]=\"USA\"\n",
        "print(dict)"
      ],
      "metadata": {
        "id": "OQg8060jUqVL",
        "colab": {
          "base_uri": "https://localhost:8080/"
        },
        "outputId": "816fe702-d29f-4e60-82f6-5e7ac630624e"
      },
      "execution_count": 51,
      "outputs": [
        {
          "output_type": "stream",
          "name": "stdout",
          "text": [
            "{'name': 'John', 'age': 25, 'country': 'USA'}\n"
          ]
        }
      ]
    },
    {
      "cell_type": "code",
      "source": [
        "#23Write a code to access the value associated with the key \"name\" in the dictionary {'name': 'Alice', 'age': 30}.\n",
        "dict={'name': 'Alice', 'age': 30}\n",
        "print(dict[\"name\"])"
      ],
      "metadata": {
        "id": "B12Voa5TNV3C",
        "colab": {
          "base_uri": "https://localhost:8080/"
        },
        "outputId": "a9fa8e74-be05-4ec0-d842-c487c438636d"
      },
      "execution_count": 52,
      "outputs": [
        {
          "output_type": "stream",
          "name": "stdout",
          "text": [
            "Alice\n"
          ]
        }
      ]
    },
    {
      "cell_type": "code",
      "source": [
        "#24Write a code to remove the key \"age\" from the dictionary {'name': 'Bob', 'age': 22, 'city': 'New York'}.\n",
        "dict={'name': 'Bob', 'age': 22, 'city': 'New York'}\n",
        "dict.pop(\"age\")\n",
        "print(dict)"
      ],
      "metadata": {
        "id": "1zGeeDcUZtGN",
        "colab": {
          "base_uri": "https://localhost:8080/"
        },
        "outputId": "5ff62823-f7e9-4171-a0ff-1ddad70ed029"
      },
      "execution_count": 49,
      "outputs": [
        {
          "output_type": "stream",
          "name": "stdout",
          "text": [
            "{'name': 'Bob', 'city': 'New York'}\n"
          ]
        }
      ]
    },
    {
      "cell_type": "code",
      "source": [
        "#25Write a code to check if the key \"city\" exists in the dictionary {'name': 'Alice', 'city': 'Paris'}.\n",
        "dict={'name': 'Alice', 'city': 'Paris'}\n",
        "print(\"city\" in dict)"
      ],
      "metadata": {
        "id": "a2O9u9S6ZtDM",
        "colab": {
          "base_uri": "https://localhost:8080/"
        },
        "outputId": "cc0cda49-714e-4665-e6e7-953fd9b0f815"
      },
      "execution_count": 50,
      "outputs": [
        {
          "output_type": "stream",
          "name": "stdout",
          "text": [
            "True\n"
          ]
        }
      ]
    },
    {
      "cell_type": "code",
      "source": [
        "#26Write a code to create a list, a tuple, and a dictionary, and print them all.\n",
        "list=[1,2,3]\n",
        "print(list)\n",
        "tuple=(1,2,3)\n",
        "print(tuple)\n",
        "dict={\"name\":\"pratiksha\",\"age\":21,\"city\":\"pune\"}\n",
        "print(dict)\n"
      ],
      "metadata": {
        "id": "f6H0aHgiZtAl",
        "colab": {
          "base_uri": "https://localhost:8080/"
        },
        "outputId": "6bc652fd-c66f-40b1-9800-5c695ce193c4"
      },
      "execution_count": 48,
      "outputs": [
        {
          "output_type": "stream",
          "name": "stdout",
          "text": [
            "[1, 2, 3]\n",
            "(1, 2, 3)\n",
            "{'name': 'pratiksha', 'age': 21, 'city': 'pune'}\n"
          ]
        }
      ]
    },
    {
      "cell_type": "code",
      "source": [
        "#27Write a code to create a list of 5 random numbers between 1 and 100, sort it in ascending order, and print the result.(replaced)\n",
        "import random\n",
        "list=[]\n",
        "for i in range(5):\n",
        "    list.append(random.randint(1,100))\n",
        "list.sort\n",
        "print(list)"
      ],
      "metadata": {
        "id": "vWvNcWaAZs9r",
        "colab": {
          "base_uri": "https://localhost:8080/"
        },
        "outputId": "ad1e201b-f9e7-4f66-f2cc-eab538a20419"
      },
      "execution_count": 47,
      "outputs": [
        {
          "output_type": "stream",
          "name": "stdout",
          "text": [
            "[65, 91, 93, 69, 53]\n"
          ]
        }
      ]
    },
    {
      "cell_type": "code",
      "source": [
        "#28Write a code to create a list with strings and print the element at the third index.\n",
        "list=[\"apple\",\"banana\",\"kiwi\"]\n",
        "print(list[2])"
      ],
      "metadata": {
        "id": "F8R1SIvvZs7E",
        "colab": {
          "base_uri": "https://localhost:8080/"
        },
        "outputId": "0f4bb64d-6d74-4d20-e61a-e54c4a7350c9"
      },
      "execution_count": 46,
      "outputs": [
        {
          "output_type": "stream",
          "name": "stdout",
          "text": [
            "kiwi\n"
          ]
        }
      ]
    },
    {
      "cell_type": "code",
      "source": [
        "#29Write a code to combine two dictionaries into one and print the result.\n",
        "dict_1={'a':1,'b':2}\n",
        "dict_2={'c':3}\n",
        "dict_1.update(dict_2)\n",
        "dict_1\n"
      ],
      "metadata": {
        "id": "ZTyg24e0Zs4l",
        "colab": {
          "base_uri": "https://localhost:8080/"
        },
        "outputId": "e290782f-fe62-43e6-d921-687caf243daa"
      },
      "execution_count": 45,
      "outputs": [
        {
          "output_type": "execute_result",
          "data": {
            "text/plain": [
              "{'a': 1, 'b': 2, 'c': 3}"
            ]
          },
          "metadata": {},
          "execution_count": 45
        }
      ]
    },
    {
      "cell_type": "code",
      "source": [
        "#30Write a code to convert a list of strings into a set.\n",
        "list_1=['kia','kat','sun']\n",
        "list_2=set(list_1)\n",
        "list_2"
      ],
      "metadata": {
        "id": "w8f2tUfxhVPf"
      },
      "execution_count": null,
      "outputs": []
    }
  ]
}